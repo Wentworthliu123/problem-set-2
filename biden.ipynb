{
 "cells": [
  {
   "cell_type": "markdown",
   "metadata": {},
   "source": [
    "# Introduction to Machine Learning\n",
    "## Homework 2\n",
    "### Author: Xinyu Liu"
   ]
  },
  {
   "cell_type": "code",
   "execution_count": 33,
   "metadata": {},
   "outputs": [],
   "source": [
    "import pandas as pd \n",
    "import numpy as np\n",
    "from sklearn.linear_model import LinearRegression\n",
    "import statsmodels.api as sm"
   ]
  },
  {
   "cell_type": "markdown",
   "metadata": {},
   "source": [
    "##### Import data and process"
   ]
  },
  {
   "cell_type": "code",
   "execution_count": 2,
   "metadata": {},
   "outputs": [
    {
     "data": {
      "text/html": [
       "<div>\n",
       "<style scoped>\n",
       "    .dataframe tbody tr th:only-of-type {\n",
       "        vertical-align: middle;\n",
       "    }\n",
       "\n",
       "    .dataframe tbody tr th {\n",
       "        vertical-align: top;\n",
       "    }\n",
       "\n",
       "    .dataframe thead th {\n",
       "        text-align: right;\n",
       "    }\n",
       "</style>\n",
       "<table border=\"1\" class=\"dataframe\">\n",
       "  <thead>\n",
       "    <tr style=\"text-align: right;\">\n",
       "      <th></th>\n",
       "      <th>biden</th>\n",
       "      <th>female</th>\n",
       "      <th>age</th>\n",
       "      <th>educ</th>\n",
       "      <th>dem</th>\n",
       "      <th>rep</th>\n",
       "    </tr>\n",
       "  </thead>\n",
       "  <tbody>\n",
       "    <tr>\n",
       "      <th>count</th>\n",
       "      <td>1807.000000</td>\n",
       "      <td>1807.000000</td>\n",
       "      <td>1807.000000</td>\n",
       "      <td>1807.000000</td>\n",
       "      <td>1807.000000</td>\n",
       "      <td>1807.000000</td>\n",
       "    </tr>\n",
       "    <tr>\n",
       "      <th>mean</th>\n",
       "      <td>62.163807</td>\n",
       "      <td>0.552850</td>\n",
       "      <td>47.535141</td>\n",
       "      <td>13.360266</td>\n",
       "      <td>0.431655</td>\n",
       "      <td>0.205313</td>\n",
       "    </tr>\n",
       "    <tr>\n",
       "      <th>std</th>\n",
       "      <td>23.462034</td>\n",
       "      <td>0.497337</td>\n",
       "      <td>16.887444</td>\n",
       "      <td>2.440257</td>\n",
       "      <td>0.495444</td>\n",
       "      <td>0.404042</td>\n",
       "    </tr>\n",
       "    <tr>\n",
       "      <th>min</th>\n",
       "      <td>0.000000</td>\n",
       "      <td>0.000000</td>\n",
       "      <td>18.000000</td>\n",
       "      <td>0.000000</td>\n",
       "      <td>0.000000</td>\n",
       "      <td>0.000000</td>\n",
       "    </tr>\n",
       "    <tr>\n",
       "      <th>25%</th>\n",
       "      <td>50.000000</td>\n",
       "      <td>0.000000</td>\n",
       "      <td>34.000000</td>\n",
       "      <td>12.000000</td>\n",
       "      <td>0.000000</td>\n",
       "      <td>0.000000</td>\n",
       "    </tr>\n",
       "    <tr>\n",
       "      <th>50%</th>\n",
       "      <td>60.000000</td>\n",
       "      <td>1.000000</td>\n",
       "      <td>47.000000</td>\n",
       "      <td>13.000000</td>\n",
       "      <td>0.000000</td>\n",
       "      <td>0.000000</td>\n",
       "    </tr>\n",
       "    <tr>\n",
       "      <th>75%</th>\n",
       "      <td>85.000000</td>\n",
       "      <td>1.000000</td>\n",
       "      <td>59.500000</td>\n",
       "      <td>16.000000</td>\n",
       "      <td>1.000000</td>\n",
       "      <td>0.000000</td>\n",
       "    </tr>\n",
       "    <tr>\n",
       "      <th>max</th>\n",
       "      <td>100.000000</td>\n",
       "      <td>1.000000</td>\n",
       "      <td>93.000000</td>\n",
       "      <td>17.000000</td>\n",
       "      <td>1.000000</td>\n",
       "      <td>1.000000</td>\n",
       "    </tr>\n",
       "  </tbody>\n",
       "</table>\n",
       "</div>"
      ],
      "text/plain": [
       "             biden       female          age         educ          dem  \\\n",
       "count  1807.000000  1807.000000  1807.000000  1807.000000  1807.000000   \n",
       "mean     62.163807     0.552850    47.535141    13.360266     0.431655   \n",
       "std      23.462034     0.497337    16.887444     2.440257     0.495444   \n",
       "min       0.000000     0.000000    18.000000     0.000000     0.000000   \n",
       "25%      50.000000     0.000000    34.000000    12.000000     0.000000   \n",
       "50%      60.000000     1.000000    47.000000    13.000000     0.000000   \n",
       "75%      85.000000     1.000000    59.500000    16.000000     1.000000   \n",
       "max     100.000000     1.000000    93.000000    17.000000     1.000000   \n",
       "\n",
       "               rep  \n",
       "count  1807.000000  \n",
       "mean      0.205313  \n",
       "std       0.404042  \n",
       "min       0.000000  \n",
       "25%       0.000000  \n",
       "50%       0.000000  \n",
       "75%       0.000000  \n",
       "max       1.000000  "
      ]
     },
     "execution_count": 2,
     "metadata": {},
     "output_type": "execute_result"
    }
   ],
   "source": [
    "bidenraw=pd.read_csv('problem-set-2/nes2008.csv')\n",
    "bidenraw.describe()"
   ]
  },
  {
   "cell_type": "code",
   "execution_count": 34,
   "metadata": {},
   "outputs": [],
   "source": [
    "x = np.array(bidenraw[['female','age','educ','dem','rep']])\n",
    "y = np.array(bidenraw[['biden']])"
   ]
  },
  {
   "cell_type": "code",
   "execution_count": 35,
   "metadata": {},
   "outputs": [
    {
     "data": {
      "text/plain": [
       "Index(['female', 'age', 'educ', 'dem', 'rep'], dtype='object')"
      ]
     },
     "execution_count": 35,
     "metadata": {},
     "output_type": "execute_result"
    }
   ],
   "source": [
    "bidenraw[['female','age','educ','dem','rep']].columns"
   ]
  },
  {
   "cell_type": "markdown",
   "metadata": {},
   "source": [
    "##### Plot the scatter graph for biden against each variable"
   ]
  },
  {
   "cell_type": "code",
   "execution_count": 45,
   "metadata": {},
   "outputs": [
    {
     "data": {
      "text/plain": [
       "<seaborn.axisgrid.PairGrid at 0x240cda36788>"
      ]
     },
     "execution_count": 45,
     "metadata": {},
     "output_type": "execute_result"
    },
    {
     "data": {
      "image/png": "[encoded data removed]",
      "text/plain": [
       "<Figure size 2016x504 with 5 Axes>"
      ]
     },
     "metadata": {
      "needs_background": "light"
     },
     "output_type": "display_data"
    }
   ],
   "source": [
    "import seaborn as sns\n",
    "%matplotlib inline\n",
    "sns.pairplot(bidenraw, x_vars=['female','age','educ','dem','rep'], y_vars='biden', size=7, aspect=0.8, kind='reg')"
   ]
  },
  {
   "cell_type": "code",
   "execution_count": 46,
   "metadata": {},
   "outputs": [],
   "source": [
    "# Alternatively this is a simple way to fit linear model:\n",
    "# SKlearn with simple but not enough statistic summary\n",
    "#     model = LinearRegression()\n",
    "#     model.fit(x, y)\n",
    "#     r_sq = model.score(x, y)\n",
    "#     r_sq"
   ]
  },
  {
   "cell_type": "markdown",
   "metadata": {},
   "source": [
    "#### 1. Estimate the MSE of the model using the traditional approach. \n",
    "- Typically, this is desirable when there is a need for more detailed results.\n",
    "- Need to add the column of ones to the inputs if you want statsmodels to calculate the intercept 𝑏₀. "
   ]
  },
  {
   "cell_type": "code",
   "execution_count": 83,
   "metadata": {},
   "outputs": [],
   "source": [
    "x = bidenraw[['female','age','educ','dem','rep']]\n",
    "y = bidenraw[['biden']]"
   ]
  },
  {
   "cell_type": "code",
   "execution_count": 84,
   "metadata": {},
   "outputs": [
    {
     "data": {
      "text/html": [
       "<table class=\"simpletable\">\n",
       "<caption>OLS Regression Results</caption>\n",
       "<tr>\n",
       "  <th>Dep. Variable:</th>          <td>biden</td>      <th>  R-squared:         </th> <td>   0.282</td> \n",
       "</tr>\n",
       "<tr>\n",
       "  <th>Model:</th>                   <td>OLS</td>       <th>  Adj. R-squared:    </th> <td>   0.280</td> \n",
       "</tr>\n",
       "<tr>\n",
       "  <th>Method:</th>             <td>Least Squares</td>  <th>  F-statistic:       </th> <td>   141.1</td> \n",
       "</tr>\n",
       "<tr>\n",
       "  <th>Date:</th>             <td>Sat, 01 Feb 2020</td> <th>  Prob (F-statistic):</th> <td>1.50e-126</td>\n",
       "</tr>\n",
       "<tr>\n",
       "  <th>Time:</th>                 <td>15:40:16</td>     <th>  Log-Likelihood:    </th> <td> -7966.6</td> \n",
       "</tr>\n",
       "<tr>\n",
       "  <th>No. Observations:</th>      <td>  1807</td>      <th>  AIC:               </th> <td>1.595e+04</td>\n",
       "</tr>\n",
       "<tr>\n",
       "  <th>Df Residuals:</th>          <td>  1801</td>      <th>  BIC:               </th> <td>1.598e+04</td>\n",
       "</tr>\n",
       "<tr>\n",
       "  <th>Df Model:</th>              <td>     5</td>      <th>                     </th>     <td> </td>    \n",
       "</tr>\n",
       "<tr>\n",
       "  <th>Covariance Type:</th>      <td>nonrobust</td>    <th>                     </th>     <td> </td>    \n",
       "</tr>\n",
       "</table>\n",
       "<table class=\"simpletable\">\n",
       "<tr>\n",
       "     <td></td>       <th>coef</th>     <th>std err</th>      <th>t</th>      <th>P>|t|</th>  <th>[0.025</th>    <th>0.975]</th>  \n",
       "</tr>\n",
       "<tr>\n",
       "  <th>const</th>  <td>   58.8113</td> <td>    3.124</td> <td>   18.823</td> <td> 0.000</td> <td>   52.683</td> <td>   64.939</td>\n",
       "</tr>\n",
       "<tr>\n",
       "  <th>female</th> <td>    4.1032</td> <td>    0.948</td> <td>    4.327</td> <td> 0.000</td> <td>    2.243</td> <td>    5.963</td>\n",
       "</tr>\n",
       "<tr>\n",
       "  <th>age</th>    <td>    0.0483</td> <td>    0.028</td> <td>    1.708</td> <td> 0.088</td> <td>   -0.007</td> <td>    0.104</td>\n",
       "</tr>\n",
       "<tr>\n",
       "  <th>educ</th>   <td>   -0.3453</td> <td>    0.195</td> <td>   -1.773</td> <td> 0.076</td> <td>   -0.727</td> <td>    0.037</td>\n",
       "</tr>\n",
       "<tr>\n",
       "  <th>dem</th>    <td>   15.4243</td> <td>    1.068</td> <td>   14.442</td> <td> 0.000</td> <td>   13.330</td> <td>   17.519</td>\n",
       "</tr>\n",
       "<tr>\n",
       "  <th>rep</th>    <td>  -15.8495</td> <td>    1.311</td> <td>  -12.086</td> <td> 0.000</td> <td>  -18.421</td> <td>  -13.278</td>\n",
       "</tr>\n",
       "</table>\n",
       "<table class=\"simpletable\">\n",
       "<tr>\n",
       "  <th>Omnibus:</th>       <td>87.979</td> <th>  Durbin-Watson:     </th> <td>   1.996</td>\n",
       "</tr>\n",
       "<tr>\n",
       "  <th>Prob(Omnibus):</th> <td> 0.000</td> <th>  Jarque-Bera (JB):  </th> <td> 101.940</td>\n",
       "</tr>\n",
       "<tr>\n",
       "  <th>Skew:</th>          <td>-0.533</td> <th>  Prob(JB):          </th> <td>7.31e-23</td>\n",
       "</tr>\n",
       "<tr>\n",
       "  <th>Kurtosis:</th>      <td> 3.466</td> <th>  Cond. No.          </th> <td>    348.</td>\n",
       "</tr>\n",
       "</table><br/><br/>Warnings:<br/>[1] Standard Errors assume that the covariance matrix of the errors is correctly specified."
      ],
      "text/plain": [
       "<class 'statsmodels.iolib.summary.Summary'>\n",
       "\"\"\"\n",
       "                            OLS Regression Results                            \n",
       "==============================================================================\n",
       "Dep. Variable:                  biden   R-squared:                       0.282\n",
       "Model:                            OLS   Adj. R-squared:                  0.280\n",
       "Method:                 Least Squares   F-statistic:                     141.1\n",
       "Date:                Sat, 01 Feb 2020   Prob (F-statistic):          1.50e-126\n",
       "Time:                        15:40:16   Log-Likelihood:                -7966.6\n",
       "No. Observations:                1807   AIC:                         1.595e+04\n",
       "Df Residuals:                    1801   BIC:                         1.598e+04\n",
       "Df Model:                           5                                         \n",
       "Covariance Type:            nonrobust                                         \n",
       "==============================================================================\n",
       "                 coef    std err          t      P>|t|      [0.025      0.975]\n",
       "------------------------------------------------------------------------------\n",
       "const         58.8113      3.124     18.823      0.000      52.683      64.939\n",
       "female         4.1032      0.948      4.327      0.000       2.243       5.963\n",
       "age            0.0483      0.028      1.708      0.088      -0.007       0.104\n",
       "educ          -0.3453      0.195     -1.773      0.076      -0.727       0.037\n",
       "dem           15.4243      1.068     14.442      0.000      13.330      17.519\n",
       "rep          -15.8495      1.311    -12.086      0.000     -18.421     -13.278\n",
       "==============================================================================\n",
       "Omnibus:                       87.979   Durbin-Watson:                   1.996\n",
       "Prob(Omnibus):                  0.000   Jarque-Bera (JB):              101.940\n",
       "Skew:                          -0.533   Prob(JB):                     7.31e-23\n",
       "Kurtosis:                       3.466   Cond. No.                         348.\n",
       "==============================================================================\n",
       "\n",
       "Warnings:\n",
       "[1] Standard Errors assume that the covariance matrix of the errors is correctly specified.\n",
       "\"\"\""
      ]
     },
     "execution_count": 84,
     "metadata": {},
     "output_type": "execute_result"
    }
   ],
   "source": [
    "# Add the column of ones to the inputs\n",
    "x = sm.add_constant(x)\n",
    "# Create a model and fit it\n",
    "model = sm.OLS(y, x)\n",
    "results = model.fit()\n",
    "results.summary()\n"
   ]
  },
  {
   "cell_type": "markdown",
   "metadata": {},
   "source": [
    "##### Calculate MSE"
   ]
  },
  {
   "cell_type": "code",
   "execution_count": 43,
   "metadata": {},
   "outputs": [
    {
     "data": {
      "text/plain": [
       "395.2701692786484"
      ]
     },
     "execution_count": 43,
     "metadata": {},
     "output_type": "execute_result"
    }
   ],
   "source": [
    "# results.mse_total\n",
    "y_pred = results.predict(x)\n",
    "metrics.mean_squared_error(y,y_pred)"
   ]
  },
  {
   "cell_type": "markdown",
   "metadata": {},
   "source": [
    "##### Discussion"
   ]
  },
  {
   "cell_type": "markdown",
   "metadata": {},
   "source": [
    "One biggest caveat is that this calculation is not appropriate in the first place in that the model is based on the whole sample set and therefore is a biased and poor estimate of error. "
   ]
  },
  {
   "cell_type": "markdown",
   "metadata": {},
   "source": [
    "#### 2. Calculate the test MSE of the model using the simple holdout validation approach"
   ]
  },
  {
   "cell_type": "markdown",
   "metadata": {},
   "source": [
    "#####  Split the sample set into a training set (50%) and a holdout set (50%)"
   ]
  },
  {
   "cell_type": "code",
   "execution_count": 78,
   "metadata": {},
   "outputs": [],
   "source": [
    "X = bidenraw[['female','age','educ','dem','rep']]\n",
    "y = bidenraw[['biden']]\n",
    "from sklearn.model_selection import train_test_split"
   ]
  },
  {
   "cell_type": "markdown",
   "metadata": {},
   "source": [
    "#####  Be sure to set your seed prior to this part of your code to guarantee reproducibility of results"
   ]
  },
  {
   "cell_type": "code",
   "execution_count": 79,
   "metadata": {},
   "outputs": [
    {
     "name": "stdout",
     "output_type": "stream",
     "text": [
      "(903, 5)\n",
      "(903, 1)\n",
      "(904, 5)\n",
      "(904, 1)\n"
     ]
    }
   ],
   "source": [
    "X_train, X_test, y_train, y_test = train_test_split(X, y, random_state=1, test_size=0.5)\n",
    "print (X_train.shape)\n",
    "print (y_train.shape)\n",
    "print (X_test.shape)\n",
    "print (y_test.shape)"
   ]
  },
  {
   "cell_type": "markdown",
   "metadata": {},
   "source": [
    "#####  Fit the linear regression model using only the training observations"
   ]
  },
  {
   "cell_type": "code",
   "execution_count": 82,
   "metadata": {},
   "outputs": [
    {
     "data": {
      "text/html": [
       "<table class=\"simpletable\">\n",
       "<caption>OLS Regression Results</caption>\n",
       "<tr>\n",
       "  <th>Dep. Variable:</th>          <td>biden</td>      <th>  R-squared:         </th> <td>   0.282</td>\n",
       "</tr>\n",
       "<tr>\n",
       "  <th>Model:</th>                   <td>OLS</td>       <th>  Adj. R-squared:    </th> <td>   0.278</td>\n",
       "</tr>\n",
       "<tr>\n",
       "  <th>Method:</th>             <td>Least Squares</td>  <th>  F-statistic:       </th> <td>   70.40</td>\n",
       "</tr>\n",
       "<tr>\n",
       "  <th>Date:</th>             <td>Sat, 01 Feb 2020</td> <th>  Prob (F-statistic):</th> <td>3.61e-62</td>\n",
       "</tr>\n",
       "<tr>\n",
       "  <th>Time:</th>                 <td>15:40:08</td>     <th>  Log-Likelihood:    </th> <td> -3963.2</td>\n",
       "</tr>\n",
       "<tr>\n",
       "  <th>No. Observations:</th>      <td>   903</td>      <th>  AIC:               </th> <td>   7938.</td>\n",
       "</tr>\n",
       "<tr>\n",
       "  <th>Df Residuals:</th>          <td>   897</td>      <th>  BIC:               </th> <td>   7967.</td>\n",
       "</tr>\n",
       "<tr>\n",
       "  <th>Df Model:</th>              <td>     5</td>      <th>                     </th>     <td> </td>   \n",
       "</tr>\n",
       "<tr>\n",
       "  <th>Covariance Type:</th>      <td>nonrobust</td>    <th>                     </th>     <td> </td>   \n",
       "</tr>\n",
       "</table>\n",
       "<table class=\"simpletable\">\n",
       "<tr>\n",
       "     <td></td>       <th>coef</th>     <th>std err</th>      <th>t</th>      <th>P>|t|</th>  <th>[0.025</th>    <th>0.975]</th>  \n",
       "</tr>\n",
       "<tr>\n",
       "  <th>const</th>  <td>   56.0910</td> <td>    4.370</td> <td>   12.836</td> <td> 0.000</td> <td>   47.515</td> <td>   64.667</td>\n",
       "</tr>\n",
       "<tr>\n",
       "  <th>female</th> <td>    4.1864</td> <td>    1.309</td> <td>    3.197</td> <td> 0.001</td> <td>    1.617</td> <td>    6.756</td>\n",
       "</tr>\n",
       "<tr>\n",
       "  <th>age</th>    <td>    0.0921</td> <td>    0.040</td> <td>    2.310</td> <td> 0.021</td> <td>    0.014</td> <td>    0.170</td>\n",
       "</tr>\n",
       "<tr>\n",
       "  <th>educ</th>   <td>   -0.3883</td> <td>    0.268</td> <td>   -1.448</td> <td> 0.148</td> <td>   -0.914</td> <td>    0.138</td>\n",
       "</tr>\n",
       "<tr>\n",
       "  <th>dem</th>    <td>   16.8127</td> <td>    1.485</td> <td>   11.320</td> <td> 0.000</td> <td>   13.898</td> <td>   19.728</td>\n",
       "</tr>\n",
       "<tr>\n",
       "  <th>rep</th>    <td>  -12.7175</td> <td>    1.810</td> <td>   -7.024</td> <td> 0.000</td> <td>  -16.271</td> <td>   -9.164</td>\n",
       "</tr>\n",
       "</table>\n",
       "<table class=\"simpletable\">\n",
       "<tr>\n",
       "  <th>Omnibus:</th>       <td>28.751</td> <th>  Durbin-Watson:     </th> <td>   2.016</td>\n",
       "</tr>\n",
       "<tr>\n",
       "  <th>Prob(Omnibus):</th> <td> 0.000</td> <th>  Jarque-Bera (JB):  </th> <td>  31.229</td>\n",
       "</tr>\n",
       "<tr>\n",
       "  <th>Skew:</th>          <td>-0.414</td> <th>  Prob(JB):          </th> <td>1.65e-07</td>\n",
       "</tr>\n",
       "<tr>\n",
       "  <th>Kurtosis:</th>      <td> 3.382</td> <th>  Cond. No.          </th> <td>    349.</td>\n",
       "</tr>\n",
       "</table><br/><br/>Warnings:<br/>[1] Standard Errors assume that the covariance matrix of the errors is correctly specified."
      ],
      "text/plain": [
       "<class 'statsmodels.iolib.summary.Summary'>\n",
       "\"\"\"\n",
       "                            OLS Regression Results                            \n",
       "==============================================================================\n",
       "Dep. Variable:                  biden   R-squared:                       0.282\n",
       "Model:                            OLS   Adj. R-squared:                  0.278\n",
       "Method:                 Least Squares   F-statistic:                     70.40\n",
       "Date:                Sat, 01 Feb 2020   Prob (F-statistic):           3.61e-62\n",
       "Time:                        15:40:08   Log-Likelihood:                -3963.2\n",
       "No. Observations:                 903   AIC:                             7938.\n",
       "Df Residuals:                     897   BIC:                             7967.\n",
       "Df Model:                           5                                         \n",
       "Covariance Type:            nonrobust                                         \n",
       "==============================================================================\n",
       "                 coef    std err          t      P>|t|      [0.025      0.975]\n",
       "------------------------------------------------------------------------------\n",
       "const         56.0910      4.370     12.836      0.000      47.515      64.667\n",
       "female         4.1864      1.309      3.197      0.001       1.617       6.756\n",
       "age            0.0921      0.040      2.310      0.021       0.014       0.170\n",
       "educ          -0.3883      0.268     -1.448      0.148      -0.914       0.138\n",
       "dem           16.8127      1.485     11.320      0.000      13.898      19.728\n",
       "rep          -12.7175      1.810     -7.024      0.000     -16.271      -9.164\n",
       "==============================================================================\n",
       "Omnibus:                       28.751   Durbin-Watson:                   2.016\n",
       "Prob(Omnibus):                  0.000   Jarque-Bera (JB):               31.229\n",
       "Skew:                          -0.414   Prob(JB):                     1.65e-07\n",
       "Kurtosis:                       3.382   Cond. No.                         349.\n",
       "==============================================================================\n",
       "\n",
       "Warnings:\n",
       "[1] Standard Errors assume that the covariance matrix of the errors is correctly specified.\n",
       "\"\"\""
      ]
     },
     "execution_count": 82,
     "metadata": {},
     "output_type": "execute_result"
    }
   ],
   "source": [
    "# Add the column of ones to the inputs\n",
    "X_train = sm.add_constant(X_train)\n",
    "# Create a model and fit it\n",
    "mlmodel2 = sm.OLS(y_train, X_train)\n",
    "mlresults2 = mlmodel2.fit()\n",
    "mlresults2.summary()"
   ]
  },
  {
   "cell_type": "markdown",
   "metadata": {},
   "source": [
    "##### Calculate the MSE using only the test set observation"
   ]
  },
  {
   "cell_type": "code",
   "execution_count": 81,
   "metadata": {},
   "outputs": [
    {
     "data": {
      "text/plain": [
       "411.85958298595153"
      ]
     },
     "execution_count": 81,
     "metadata": {},
     "output_type": "execute_result"
    }
   ],
   "source": [
    "# Use model created from training set to predict based on test set\n",
    "X_test = sm.add_constant(X_test)\n",
    "y_pred = mlresults.predict(X_test)\n",
    "metrics.mean_squared_error(y_test,y_pred)"
   ]
  },
  {
   "cell_type": "markdown",
   "metadata": {},
   "source": [
    "##### How does this value compare to the training MSE from question 1? "
   ]
  },
  {
   "cell_type": "markdown",
   "metadata": {},
   "source": [
    "Clearly there the MSE from question 1 is a determined number, as long as the data set is given. However, the MSE using simple random split in question 2 varies from different random seeds. The random characteristic of MSE in question 2 is the major reason to implement approach in question 3."
   ]
  },
  {
   "cell_type": "markdown",
   "metadata": {},
   "source": [
    "#### 3.  Repeat the simple validation set approach from the previous question 1000 times, using 1000 diﬀerent splits of the observations into a training set and a test/validation set. "
   ]
  },
  {
   "cell_type": "code",
   "execution_count": 16,
   "metadata": {},
   "outputs": [],
   "source": [
    "import warnings\n",
    "warnings.filterwarnings('ignore')\n",
    "\n",
    "X = bidenraw[['female','age','educ','dem','rep']]\n",
    "y = bidenraw[['biden']]\n",
    "from sklearn.model_selection import train_test_split\n",
    "from sklearn import metrics\n",
    "ml1000mse = []\n",
    "for i in range(1000):\n",
    "    X_train, X_test, y_train, y_test = train_test_split(X, y, random_state=i, test_size=0.5)\n",
    "    # Add the column of ones to the inputs\n",
    "    X_train = sm.add_constant(X_train)\n",
    "    # Create a model and fit it\n",
    "    mlmodel = sm.OLS(y_train, X_train)\n",
    "    mlresults = mlmodel.fit()\n",
    "    X_test = sm.add_constant(X_test)\n",
    "    y_pred = mlresults.predict(X_test)\n",
    "    ml1000mse.append(metrics.mean_squared_error(y_test, y_pred))\n",
    "    "
   ]
  },
  {
   "cell_type": "code",
   "execution_count": 29,
   "metadata": {},
   "outputs": [
    {
     "data": {
      "image/png": "[encoded data removed]",
      "text/plain": [
       "<Figure size 576x396 with 1 Axes>"
      ]
     },
     "metadata": {},
     "output_type": "display_data"
    }
   ],
   "source": [
    "# fixed bin size\n",
    "from matplotlib import pyplot as plt\n",
    "plt.style.use('seaborn')\n",
    "bins = np.arange(300, 500, 5) # fixed bin size\n",
    "plt.xlim([min(ml1000mse)-5, max(ml1000mse)+5])\n",
    "plt.hist(ml1000mse, bins=bins, alpha=0.5)\n",
    "plt.axvline(np.asarray(ml1000mse).mean())\n",
    "plt.title('MSE from 1000 times random split test')\n",
    "plt.xlabel('MSE for each test')\n",
    "plt.ylabel('count')\n",
    "plt.show()"
   ]
  },
  {
   "cell_type": "markdown",
   "metadata": {},
   "source": [
    "##### Description of histogram and comments"
   ]
  },
  {
   "cell_type": "markdown",
   "metadata": {},
   "source": [
    "First the MSE ditribution of 1000 times tests takes a form of normal distribution like shape, exhiniting the effect of central limit theorem. The result also expalins the point of repeated randomized split test, which is to provide a consistent estimate of the model and therefore are more reliable when making inference about the population. The mean of MSE is 399.6, which is quite stable regardless which randomization seed we set.  "
   ]
  },
  {
   "cell_type": "code",
   "execution_count": 18,
   "metadata": {},
   "outputs": [
    {
     "data": {
      "text/plain": [
       "399.6615061066422"
      ]
     },
     "execution_count": 18,
     "metadata": {},
     "output_type": "execute_result"
    }
   ],
   "source": [
    "np.asarray(ml1000mse).mean()"
   ]
  },
  {
   "cell_type": "markdown",
   "metadata": {},
   "source": [
    "#### 4. Compare the estimated parameters and standard errors from the original model in question 1 (the model estimated using all of the available data) to parameters and standard errors estimated using the bootstrap (B =1000)."
   ]
  },
  {
   "cell_type": "code",
   "execution_count": 73,
   "metadata": {},
   "outputs": [],
   "source": [
    "# scikit-learn bootstrap\n",
    "from sklearn.utils import resample\n",
    "# data sample\n",
    "# prepare bootstrap sample\n",
    "boot = resample(bidenraw, replace=True, n_samples=1000, random_state=1)\n",
    "\n",
    "# out of bag observations\n",
    "oob=pd.concat([bidenraw, boot]).drop_duplicates(keep=False)\n",
    "# population = np.random.normal(loc=mean, scale=stdev, size=50000)"
   ]
  },
  {
   "cell_type": "code",
   "execution_count": 69,
   "metadata": {},
   "outputs": [
    {
     "data": {
      "text/html": [
       "<table class=\"simpletable\">\n",
       "<caption>OLS Regression Results</caption>\n",
       "<tr>\n",
       "  <th>Dep. Variable:</th>          <td>biden</td>      <th>  R-squared:         </th> <td>   0.275</td>\n",
       "</tr>\n",
       "<tr>\n",
       "  <th>Model:</th>                   <td>OLS</td>       <th>  Adj. R-squared:    </th> <td>   0.271</td>\n",
       "</tr>\n",
       "<tr>\n",
       "  <th>Method:</th>             <td>Least Squares</td>  <th>  F-statistic:       </th> <td>   75.23</td>\n",
       "</tr>\n",
       "<tr>\n",
       "  <th>Date:</th>             <td>Sat, 01 Feb 2020</td> <th>  Prob (F-statistic):</th> <td>6.49e-67</td>\n",
       "</tr>\n",
       "<tr>\n",
       "  <th>Time:</th>                 <td>15:25:56</td>     <th>  Log-Likelihood:    </th> <td> -4423.9</td>\n",
       "</tr>\n",
       "<tr>\n",
       "  <th>No. Observations:</th>      <td>  1000</td>      <th>  AIC:               </th> <td>   8860.</td>\n",
       "</tr>\n",
       "<tr>\n",
       "  <th>Df Residuals:</th>          <td>   994</td>      <th>  BIC:               </th> <td>   8889.</td>\n",
       "</tr>\n",
       "<tr>\n",
       "  <th>Df Model:</th>              <td>     5</td>      <th>                     </th>     <td> </td>   \n",
       "</tr>\n",
       "<tr>\n",
       "  <th>Covariance Type:</th>      <td>nonrobust</td>    <th>                     </th>     <td> </td>   \n",
       "</tr>\n",
       "</table>\n",
       "<table class=\"simpletable\">\n",
       "<tr>\n",
       "     <td></td>       <th>coef</th>     <th>std err</th>      <th>t</th>      <th>P>|t|</th>  <th>[0.025</th>    <th>0.975]</th>  \n",
       "</tr>\n",
       "<tr>\n",
       "  <th>const</th>  <td>   57.2631</td> <td>    4.323</td> <td>   13.245</td> <td> 0.000</td> <td>   48.779</td> <td>   65.747</td>\n",
       "</tr>\n",
       "<tr>\n",
       "  <th>female</th> <td>    3.1547</td> <td>    1.287</td> <td>    2.450</td> <td> 0.014</td> <td>    0.628</td> <td>    5.681</td>\n",
       "</tr>\n",
       "<tr>\n",
       "  <th>age</th>    <td>    0.0977</td> <td>    0.039</td> <td>    2.478</td> <td> 0.013</td> <td>    0.020</td> <td>    0.175</td>\n",
       "</tr>\n",
       "<tr>\n",
       "  <th>educ</th>   <td>   -0.4160</td> <td>    0.263</td> <td>   -1.584</td> <td> 0.114</td> <td>   -0.931</td> <td>    0.099</td>\n",
       "</tr>\n",
       "<tr>\n",
       "  <th>dem</th>    <td>   15.7901</td> <td>    1.453</td> <td>   10.871</td> <td> 0.000</td> <td>   12.940</td> <td>   18.641</td>\n",
       "</tr>\n",
       "<tr>\n",
       "  <th>rep</th>    <td>  -15.0100</td> <td>    1.802</td> <td>   -8.328</td> <td> 0.000</td> <td>  -18.547</td> <td>  -11.473</td>\n",
       "</tr>\n",
       "</table>\n",
       "<table class=\"simpletable\">\n",
       "<tr>\n",
       "  <th>Omnibus:</th>       <td>19.051</td> <th>  Durbin-Watson:     </th> <td>   1.963</td>\n",
       "</tr>\n",
       "<tr>\n",
       "  <th>Prob(Omnibus):</th> <td> 0.000</td> <th>  Jarque-Bera (JB):  </th> <td>  19.695</td>\n",
       "</tr>\n",
       "<tr>\n",
       "  <th>Skew:</th>          <td>-0.324</td> <th>  Prob(JB):          </th> <td>5.29e-05</td>\n",
       "</tr>\n",
       "<tr>\n",
       "  <th>Kurtosis:</th>      <td> 3.231</td> <th>  Cond. No.          </th> <td>    346.</td>\n",
       "</tr>\n",
       "</table><br/><br/>Warnings:<br/>[1] Standard Errors assume that the covariance matrix of the errors is correctly specified."
      ],
      "text/plain": [
       "<class 'statsmodels.iolib.summary.Summary'>\n",
       "\"\"\"\n",
       "                            OLS Regression Results                            \n",
       "==============================================================================\n",
       "Dep. Variable:                  biden   R-squared:                       0.275\n",
       "Model:                            OLS   Adj. R-squared:                  0.271\n",
       "Method:                 Least Squares   F-statistic:                     75.23\n",
       "Date:                Sat, 01 Feb 2020   Prob (F-statistic):           6.49e-67\n",
       "Time:                        15:25:56   Log-Likelihood:                -4423.9\n",
       "No. Observations:                1000   AIC:                             8860.\n",
       "Df Residuals:                     994   BIC:                             8889.\n",
       "Df Model:                           5                                         \n",
       "Covariance Type:            nonrobust                                         \n",
       "==============================================================================\n",
       "                 coef    std err          t      P>|t|      [0.025      0.975]\n",
       "------------------------------------------------------------------------------\n",
       "const         57.2631      4.323     13.245      0.000      48.779      65.747\n",
       "female         3.1547      1.287      2.450      0.014       0.628       5.681\n",
       "age            0.0977      0.039      2.478      0.013       0.020       0.175\n",
       "educ          -0.4160      0.263     -1.584      0.114      -0.931       0.099\n",
       "dem           15.7901      1.453     10.871      0.000      12.940      18.641\n",
       "rep          -15.0100      1.802     -8.328      0.000     -18.547     -11.473\n",
       "==============================================================================\n",
       "Omnibus:                       19.051   Durbin-Watson:                   1.963\n",
       "Prob(Omnibus):                  0.000   Jarque-Bera (JB):               19.695\n",
       "Skew:                          -0.324   Prob(JB):                     5.29e-05\n",
       "Kurtosis:                       3.231   Cond. No.                         346.\n",
       "==============================================================================\n",
       "\n",
       "Warnings:\n",
       "[1] Standard Errors assume that the covariance matrix of the errors is correctly specified.\n",
       "\"\"\""
      ]
     },
     "execution_count": 69,
     "metadata": {},
     "output_type": "execute_result"
    }
   ],
   "source": [
    "# Add the column of ones to the inputs\n",
    "X_train = boot[['female','age','educ','dem','rep']]\n",
    "y_train = boot[['biden']]\n",
    "X_train = sm.add_constant(X_train)\n",
    "# Create a model and fit it\n",
    "mlmodel = sm.OLS(y_train, X_train)\n",
    "mlresults = mlmodel.fit()\n",
    "mlresults.summary()"
   ]
  },
  {
   "cell_type": "code",
   "execution_count": 72,
   "metadata": {},
   "outputs": [
    {
     "data": {
      "text/plain": [
       "422.4466985286168"
      ]
     },
     "execution_count": 72,
     "metadata": {},
     "output_type": "execute_result"
    }
   ],
   "source": [
    "X_test = oob[['female','age','educ','dem','rep']]\n",
    "y_test = oob[['biden']]\n",
    "# Use model created from training set to predict based on test set\n",
    "X_test = sm.add_constant(X_test)\n",
    "y_pred = mlresults.predict(X_test)\n",
    "metrics.mean_squared_error(y_test,y_pred)"
   ]
  },
  {
   "cell_type": "markdown",
   "metadata": {},
   "source": [
    "##### Description of coefficient and std"
   ]
  },
  {
   "cell_type": "code",
   "execution_count": 99,
   "metadata": {},
   "outputs": [
    {
     "data": {
      "text/html": [
       "<div>\n",
       "<style scoped>\n",
       "    .dataframe tbody tr th:only-of-type {\n",
       "        vertical-align: middle;\n",
       "    }\n",
       "\n",
       "    .dataframe tbody tr th {\n",
       "        vertical-align: top;\n",
       "    }\n",
       "\n",
       "    .dataframe thead th {\n",
       "        text-align: right;\n",
       "    }\n",
       "</style>\n",
       "<table border=\"1\" class=\"dataframe\">\n",
       "  <thead>\n",
       "    <tr style=\"text-align: right;\">\n",
       "      <th></th>\n",
       "      <th>Q1_coefficient</th>\n",
       "      <th>Q4_coefficient</th>\n",
       "      <th>Q1_se</th>\n",
       "      <th>Q4_se</th>\n",
       "      <th>Q1_p</th>\n",
       "      <th>Q4_p</th>\n",
       "    </tr>\n",
       "  </thead>\n",
       "  <tbody>\n",
       "    <tr>\n",
       "      <th>const</th>\n",
       "      <td>58.811259</td>\n",
       "      <td>57.263108</td>\n",
       "      <td>3.124437</td>\n",
       "      <td>4.323418</td>\n",
       "      <td>2.694143e-72</td>\n",
       "      <td>5.384052e-37</td>\n",
       "    </tr>\n",
       "    <tr>\n",
       "      <th>female</th>\n",
       "      <td>4.103230</td>\n",
       "      <td>3.154657</td>\n",
       "      <td>0.948229</td>\n",
       "      <td>1.287427</td>\n",
       "      <td>1.592601e-05</td>\n",
       "      <td>1.444293e-02</td>\n",
       "    </tr>\n",
       "    <tr>\n",
       "      <th>age</th>\n",
       "      <td>0.048259</td>\n",
       "      <td>0.097724</td>\n",
       "      <td>0.028247</td>\n",
       "      <td>0.039430</td>\n",
       "      <td>8.772744e-02</td>\n",
       "      <td>1.336097e-02</td>\n",
       "    </tr>\n",
       "    <tr>\n",
       "      <th>educ</th>\n",
       "      <td>-0.345335</td>\n",
       "      <td>-0.416020</td>\n",
       "      <td>0.194780</td>\n",
       "      <td>0.262651</td>\n",
       "      <td>7.640571e-02</td>\n",
       "      <td>1.135282e-01</td>\n",
       "    </tr>\n",
       "    <tr>\n",
       "      <th>dem</th>\n",
       "      <td>15.424256</td>\n",
       "      <td>15.790141</td>\n",
       "      <td>1.068033</td>\n",
       "      <td>1.452559</td>\n",
       "      <td>8.144928e-45</td>\n",
       "      <td>4.370008e-26</td>\n",
       "    </tr>\n",
       "    <tr>\n",
       "      <th>rep</th>\n",
       "      <td>-15.849506</td>\n",
       "      <td>-15.009987</td>\n",
       "      <td>1.311362</td>\n",
       "      <td>1.802393</td>\n",
       "      <td>2.157309e-32</td>\n",
       "      <td>2.706188e-16</td>\n",
       "    </tr>\n",
       "  </tbody>\n",
       "</table>\n",
       "</div>"
      ],
      "text/plain": [
       "        Q1_coefficient  Q4_coefficient     Q1_se     Q4_se          Q1_p  \\\n",
       "const        58.811259       57.263108  3.124437  4.323418  2.694143e-72   \n",
       "female        4.103230        3.154657  0.948229  1.287427  1.592601e-05   \n",
       "age           0.048259        0.097724  0.028247  0.039430  8.772744e-02   \n",
       "educ         -0.345335       -0.416020  0.194780  0.262651  7.640571e-02   \n",
       "dem          15.424256       15.790141  1.068033  1.452559  8.144928e-45   \n",
       "rep         -15.849506      -15.009987  1.311362  1.802393  2.157309e-32   \n",
       "\n",
       "                Q4_p  \n",
       "const   5.384052e-37  \n",
       "female  1.444293e-02  \n",
       "age     1.336097e-02  \n",
       "educ    1.135282e-01  \n",
       "dem     4.370008e-26  \n",
       "rep     2.706188e-16  "
      ]
     },
     "execution_count": 99,
     "metadata": {},
     "output_type": "execute_result"
    }
   ],
   "source": [
    "Comparision = pd.DataFrame()\n",
    "Comparision['Q1_coefficient'] = results.params\n",
    "Comparision['Q4_coefficient'] = mlresults.params\n",
    "Comparision['Q1_se'] = results.bse\n",
    "Comparision['Q4_se'] = mlresults.bse\n",
    "Comparision['Q1_p'] = results.pvalues\n",
    "Comparision['Q4_p'] = mlresults.pvalues\n",
    "Comparision"
   ]
  },
  {
   "cell_type": "markdown",
   "metadata": {},
   "source": [
    "##### Discussion"
   ]
  },
  {
   "cell_type": "markdown",
   "metadata": {},
   "source": [
    "The bootstrap method is a resampling technique for estimating a sampling distribution. The idea of the bootstrap method is to generate new data from a “population” by repeated sampling from data with replacement. According to the result we can see that in a large sense (sign and magnitude) coefficients from Q1 and Q4 remain compariable. However, when taking a closer look, some coefficient do show different confidence interval such as age. It is understandable to see some small difference are the assumption for bootstrap is that every observation in the sample set has equal posibility to be chosen. This is an implicit generalization of the greater population. In bootstrapping, we take the sample we have and sample from it, whereas Q1 use the whole sample set directly. We can also calculate the MSE of Q4 which is 422, greater (or more precisely less stable) than Q1's MSE."
   ]
  },
  {
   "cell_type": "code",
   "execution_count": 102,
   "metadata": {},
   "outputs": [
    {
     "ename": "OSError",
     "evalue": "No wkhtmltopdf executable found: \"F:\\向菁\\wkhtmltopdf\\bin\\\"\nIf this file exists please check that this process can read it. Otherwise please install wkhtmltopdf - https://github.com/JazzCore/python-pdfkit/wiki/Installing-wkhtmltopdf",
     "output_type": "error",
     "traceback": [
      "\u001b[1;31m---------------------------------------------------------------------------\u001b[0m",
      "\u001b[1;31mFileNotFoundError\u001b[0m                         Traceback (most recent call last)",
      "\u001b[1;32mC:\\ProgramData\\Anaconda3\\lib\\site-packages\\pdfkit\\configuration.py\u001b[0m in \u001b[0;36m__init__\u001b[1;34m(self, wkhtmltopdf, meta_tag_prefix)\u001b[0m\n\u001b[0;32m     20\u001b[0m         \u001b[1;32mtry\u001b[0m\u001b[1;33m:\u001b[0m\u001b[1;33m\u001b[0m\u001b[1;33m\u001b[0m\u001b[0m\n\u001b[1;32m---> 21\u001b[1;33m             \u001b[1;32mwith\u001b[0m \u001b[0mopen\u001b[0m\u001b[1;33m(\u001b[0m\u001b[0mself\u001b[0m\u001b[1;33m.\u001b[0m\u001b[0mwkhtmltopdf\u001b[0m\u001b[1;33m)\u001b[0m \u001b[1;32mas\u001b[0m \u001b[0mf\u001b[0m\u001b[1;33m:\u001b[0m\u001b[1;33m\u001b[0m\u001b[1;33m\u001b[0m\u001b[0m\n\u001b[0m\u001b[0;32m     22\u001b[0m                 \u001b[1;32mpass\u001b[0m\u001b[1;33m\u001b[0m\u001b[1;33m\u001b[0m\u001b[0m\n",
      "\u001b[1;31mFileNotFoundError\u001b[0m: [Errno 2] No such file or directory: 'F:\\\\向菁\\\\wkhtmltopdf\\\\bin\\\\'",
      "\nDuring handling of the above exception, another exception occurred:\n",
      "\u001b[1;31mOSError\u001b[0m                                   Traceback (most recent call last)",
      "\u001b[1;32m<ipython-input-102-9f78686d17e3>\u001b[0m in \u001b[0;36m<module>\u001b[1;34m\u001b[0m\n\u001b[0;32m      3\u001b[0m \u001b[1;33m\u001b[0m\u001b[0m\n\u001b[0;32m      4\u001b[0m \u001b[0mpath_wkthmltopdf\u001b[0m \u001b[1;33m=\u001b[0m \u001b[1;34m\"F:\\\\向菁\\\\wkhtmltopdf\\\\bin\\\\\"\u001b[0m\u001b[1;33m\u001b[0m\u001b[1;33m\u001b[0m\u001b[0m\n\u001b[1;32m----> 5\u001b[1;33m \u001b[0mconfig\u001b[0m \u001b[1;33m=\u001b[0m \u001b[0mpdfkit\u001b[0m\u001b[1;33m.\u001b[0m\u001b[0mconfiguration\u001b[0m\u001b[1;33m(\u001b[0m\u001b[0mwkhtmltopdf\u001b[0m \u001b[1;33m=\u001b[0m \u001b[0mpath_wkthmltopdf\u001b[0m\u001b[1;33m)\u001b[0m\u001b[1;33m\u001b[0m\u001b[1;33m\u001b[0m\u001b[0m\n\u001b[0m\u001b[0;32m      6\u001b[0m \u001b[1;33m\u001b[0m\u001b[0m\n\u001b[0;32m      7\u001b[0m \u001b[0mpdfkit\u001b[0m\u001b[1;33m.\u001b[0m\u001b[0mfrom_file\u001b[0m\u001b[1;33m(\u001b[0m\u001b[1;34m\"biden.ipynb\"\u001b[0m\u001b[1;33m,\u001b[0m \u001b[1;34m\"out.pdf\"\u001b[0m\u001b[1;33m,\u001b[0m \u001b[0mconfiguration\u001b[0m\u001b[1;33m=\u001b[0m\u001b[0mconfig\u001b[0m\u001b[1;33m)\u001b[0m\u001b[1;33m\u001b[0m\u001b[1;33m\u001b[0m\u001b[0m\n",
      "\u001b[1;32mC:\\ProgramData\\Anaconda3\\lib\\site-packages\\pdfkit\\api.py\u001b[0m in \u001b[0;36mconfiguration\u001b[1;34m(**kwargs)\u001b[0m\n\u001b[0;32m     81\u001b[0m     \"\"\"\n\u001b[0;32m     82\u001b[0m \u001b[1;33m\u001b[0m\u001b[0m\n\u001b[1;32m---> 83\u001b[1;33m     \u001b[1;32mreturn\u001b[0m \u001b[0mConfiguration\u001b[0m\u001b[1;33m(\u001b[0m\u001b[1;33m**\u001b[0m\u001b[0mkwargs\u001b[0m\u001b[1;33m)\u001b[0m\u001b[1;33m\u001b[0m\u001b[1;33m\u001b[0m\u001b[0m\n\u001b[0m",
      "\u001b[1;32mC:\\ProgramData\\Anaconda3\\lib\\site-packages\\pdfkit\\configuration.py\u001b[0m in \u001b[0;36m__init__\u001b[1;34m(self, wkhtmltopdf, meta_tag_prefix)\u001b[0m\n\u001b[0;32m     25\u001b[0m                           \u001b[1;34m'If this file exists please check that this process can '\u001b[0m\u001b[1;33m\u001b[0m\u001b[1;33m\u001b[0m\u001b[0m\n\u001b[0;32m     26\u001b[0m                           \u001b[1;34m'read it. Otherwise please install wkhtmltopdf - '\u001b[0m\u001b[1;33m\u001b[0m\u001b[1;33m\u001b[0m\u001b[0m\n\u001b[1;32m---> 27\u001b[1;33m                           'https://github.com/JazzCore/python-pdfkit/wiki/Installing-wkhtmltopdf' % self.wkhtmltopdf)\n\u001b[0m",
      "\u001b[1;31mOSError\u001b[0m: No wkhtmltopdf executable found: \"F:\\向菁\\wkhtmltopdf\\bin\\\"\nIf this file exists please check that this process can read it. Otherwise please install wkhtmltopdf - https://github.com/JazzCore/python-pdfkit/wiki/Installing-wkhtmltopdf"
     ]
    }
   ],
   "source": [
    "\n",
    "import pdfkit\n",
    "\n",
    "\n",
    "path_wkthmltopdf = \"F:\\\\向菁\\\\wkhtmltopdf\\\\bin\\\\\"\n",
    "config = pdfkit.configuration(wkhtmltopdf = path_wkthmltopdf)\n",
    "\n",
    "pdfkit.from_file(\"biden.ipynb\", \"out.pdf\", configuration=config)"
   ]
  },
  {
   "cell_type": "code",
   "execution_count": null,
   "metadata": {},
   "outputs": [],
   "source": []
  }
 ],
 "metadata": {
  "kernelspec": {
   "display_name": "Python 3",
   "language": "python",
   "name": "python3"
  },
  "language_info": {
   "codemirror_mode": {
    "name": "ipython",
    "version": 3
   },
   "file_extension": ".py",
   "mimetype": "text/x-python",
   "name": "python",
   "nbconvert_exporter": "python",
   "pygments_lexer": "ipython3",
   "version": "3.7.4"
  }
 },
 "nbformat": 4,
 "nbformat_minor": 4
}
